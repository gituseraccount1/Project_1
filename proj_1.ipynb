{
 "cells": [
  {
   "cell_type": "code",
   "execution_count": null,
   "metadata": {},
   "outputs": [],
   "source": [
    "# Dependencies\n",
    "import pandas as pd\n",
    "from pathlib import Path"
   ]
  },
  {
   "cell_type": "code",
   "execution_count": null,
   "metadata": {},
   "outputs": [],
   "source": [
    "# Load in file and store filepath in a variable\n",
    "transit_file = Path(\"Resource/Metro-Systems-Worldwide.csv\")"
   ]
  },
  {
   "cell_type": "code",
   "execution_count": null,
   "metadata": {},
   "outputs": [],
   "source": [
    "# Read and display the CSV with Pandas\n",
    "transit_df = pd.read_csv(transit_file)\n",
    "transit_df.head()"
   ]
  },
  {
   "cell_type": "code",
   "execution_count": null,
   "metadata": {},
   "outputs": [],
   "source": [
    "# List all the columns in the table\n",
    "transit_df.columns"
   ]
  },
  {
   "cell_type": "code",
   "execution_count": null,
   "metadata": {},
   "outputs": [],
   "source": [
    "# Use .rename(columns={}) to rename columns\n",
    "transit_renamed_df = transit_df.rename(columns={\"Country\\r\\nregion\":\"Country region\", \n",
    "                                                \"Service\\r\\nopened\":\"Service opened\",\n",
    "                                                \"Last\\r\\nexpanded\":\"Last expanded\",\n",
    "                                                \"Annual ridership\\r\\n(millions)\":\"Annual ridership (millions)\"})\n",
    "transit_renamed_df.head()"
   ]
  },
  {
   "cell_type": "code",
   "execution_count": null,
   "metadata": {},
   "outputs": [],
   "source": [
    "transit_renamed_df.count()"
   ]
  },
  {
   "cell_type": "code",
   "execution_count": null,
   "metadata": {},
   "outputs": [],
   "source": [
    "drop_na_df = transit_renamed_df.dropna(how='any')"
   ]
  },
  {
   "cell_type": "code",
   "execution_count": null,
   "metadata": {},
   "outputs": [],
   "source": [
    "transit_renamed_df.count()"
   ]
  },
  {
   "cell_type": "code",
   "execution_count": null,
   "metadata": {},
   "outputs": [],
   "source": [
    "transit_renamed_df.count()"
   ]
  },
  {
   "cell_type": "code",
   "execution_count": null,
   "metadata": {},
   "outputs": [],
   "source": [
    "# TRY to clean up Last expanded and Annual ridership (millions) category. \n",
    "transit_renamed_df['Last expanded'] = transit_renamed_df['Last expanded'].replace({'–': 'NA'})\n",
    "transit_renamed_df.head()\n",
    "\n",
    "transit_renamed_df['Annual ridership (millions)'] = transit_renamed_df['Annual ridership (millions)'].replace({'n/a': 'Hello'})\n",
    "transit_renamed_df.head(15)"
   ]
  }
 ],
 "metadata": {
  "kernelspec": {
   "display_name": "dev",
   "language": "python",
   "name": "python3"
  },
  "language_info": {
   "codemirror_mode": {
    "name": "ipython",
    "version": 3
   },
   "file_extension": ".py",
   "mimetype": "text/x-python",
   "name": "python",
   "nbconvert_exporter": "python",
   "pygments_lexer": "ipython3",
   "version": "3.10.12"
  },
  "orig_nbformat": 4
 },
 "nbformat": 4,
 "nbformat_minor": 2
}
